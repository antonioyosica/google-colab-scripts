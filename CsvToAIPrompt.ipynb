{
  "nbformat": 4,
  "nbformat_minor": 0,
  "metadata": {
    "colab": {
      "provenance": [],
      "mount_file_id": "11CsmXLE640yRC2gavRQBgmHhFcTkTmFU",
      "authorship_tag": "ABX9TyNg7W4Bcm3BJ4tzDZ/YHohF",
      "include_colab_link": true
    },
    "kernelspec": {
      "name": "python3",
      "display_name": "Python 3"
    },
    "language_info": {
      "name": "python"
    }
  },
  "cells": [
    {
      "cell_type": "markdown",
      "metadata": {
        "id": "view-in-github",
        "colab_type": "text"
      },
      "source": [
        "<a href=\"https://colab.research.google.com/github/antonioyosica/google-colab-scripts/blob/main/CsvToAIPrompt.ipynb\" target=\"_parent\"><img src=\"https://colab.research.google.com/assets/colab-badge.svg\" alt=\"Open In Colab\"/></a>"
      ]
    },
    {
      "cell_type": "code",
      "execution_count": null,
      "metadata": {
        "id": "JGLFqlsQMyjh"
      },
      "outputs": [],
      "source": [
        "import pandas as pd\n",
        "\n",
        "# Load CSV data into a pandas DataFrame\n",
        "csv_file_path = '/content/drive/MyDrive/Finetuning OpenAI/store_digital_devices_prompts_completions.csv'  # Replace with the path to your CSV file\n",
        "df = pd.read_csv(csv_file_path)\n",
        "\n",
        "# Assuming the CSV has two columns: 'question' and 'answer'\n",
        "# You can generate prompts and completions like so:\n",
        "\n",
        "df['prompt'] = df['question'].apply(lambda x: f\"Q: {x} \\nA: \")\n",
        "df['completion'] = df['answer'].apply(lambda x: f\"{x}\")\n",
        "\n",
        "# Optionally, if you need a combined output:\n",
        "df['prompt_completion'] = df.apply(lambda row: f\"Q: {row['question']} \\nA: {row['answer']}\", axis=1)\n",
        "\n",
        "# Save the prompts and completions to a new CSV file\n",
        "output_file_path = 'prepared_data.csv'\n",
        "df.to_csv(output_file_path, index=False)\n",
        "\n",
        "print(\"Data preparation complete! Prompts and completions saved to:\", output_file_path)\n"
      ]
    }
  ]
}